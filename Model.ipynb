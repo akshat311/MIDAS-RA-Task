{
 "cells": [
  {
   "cell_type": "markdown",
   "metadata": {},
   "source": [
    "Importing all the required libraries"
   ]
  },
  {
   "cell_type": "code",
   "execution_count": 6,
   "metadata": {},
   "outputs": [],
   "source": [
    "import pandas as pd\n",
    "import re\n",
    "import nltk\n",
    "from nltk.corpus import stopwords\n",
    "from sklearn.model_selection import train_test_split\n",
    "from sklearn.metrics import classification_report\n",
    "from transformers import BertTokenizer\n",
    "import numpy as np\n",
    "from keras.layers import Activation, Dense, Dropout, Embedding, Flatten, Conv1D, MaxPooling1D, LSTM,BatchNormalization\n",
    "from keras.models import Sequential\n",
    "from sklearn.metrics import f1_score, precision_score, recall_score, confusion_matrix\n",
    "import keras\n",
    "from matplotlib import pyplot as plt\n",
    "from keras.utils.np_utils import to_categorical"
   ]
  },
  {
   "cell_type": "markdown",
   "metadata": {},
   "source": [
    "First, we'll read the dataset and try to see what all coulumns are useful for us"
   ]
  },
  {
   "cell_type": "code",
   "execution_count": 7,
   "metadata": {},
   "outputs": [
    {
     "data": {
      "text/html": [
       "<div>\n",
       "<style scoped>\n",
       "    .dataframe tbody tr th:only-of-type {\n",
       "        vertical-align: middle;\n",
       "    }\n",
       "\n",
       "    .dataframe tbody tr th {\n",
       "        vertical-align: top;\n",
       "    }\n",
       "\n",
       "    .dataframe thead th {\n",
       "        text-align: right;\n",
       "    }\n",
       "</style>\n",
       "<table border=\"1\" class=\"dataframe\">\n",
       "  <thead>\n",
       "    <tr style=\"text-align: right;\">\n",
       "      <th></th>\n",
       "      <th>uniq_id</th>\n",
       "      <th>crawl_timestamp</th>\n",
       "      <th>product_url</th>\n",
       "      <th>product_name</th>\n",
       "      <th>product_category_tree</th>\n",
       "      <th>pid</th>\n",
       "      <th>retail_price</th>\n",
       "      <th>discounted_price</th>\n",
       "      <th>image</th>\n",
       "      <th>is_FK_Advantage_product</th>\n",
       "      <th>description</th>\n",
       "      <th>product_rating</th>\n",
       "      <th>overall_rating</th>\n",
       "      <th>brand</th>\n",
       "      <th>product_specifications</th>\n",
       "    </tr>\n",
       "  </thead>\n",
       "  <tbody>\n",
       "    <tr>\n",
       "      <th>0</th>\n",
       "      <td>c2d766ca982eca8304150849735ffef9</td>\n",
       "      <td>2016-03-25 22:59:23 +0000</td>\n",
       "      <td>http://www.flipkart.com/alisha-solid-women-s-c...</td>\n",
       "      <td>Alisha Solid Women's Cycling Shorts</td>\n",
       "      <td>[\"Clothing &gt;&gt; Women's Clothing &gt;&gt; Lingerie, Sl...</td>\n",
       "      <td>SRTEH2FF9KEDEFGF</td>\n",
       "      <td>999.0</td>\n",
       "      <td>379.0</td>\n",
       "      <td>[\"http://img5a.flixcart.com/image/short/u/4/a/...</td>\n",
       "      <td>False</td>\n",
       "      <td>Key Features of Alisha Solid Women's Cycling S...</td>\n",
       "      <td>No rating available</td>\n",
       "      <td>No rating available</td>\n",
       "      <td>Alisha</td>\n",
       "      <td>{\"product_specification\"=&gt;[{\"key\"=&gt;\"Number of ...</td>\n",
       "    </tr>\n",
       "    <tr>\n",
       "      <th>1</th>\n",
       "      <td>7f7036a6d550aaa89d34c77bd39a5e48</td>\n",
       "      <td>2016-03-25 22:59:23 +0000</td>\n",
       "      <td>http://www.flipkart.com/fabhomedecor-fabric-do...</td>\n",
       "      <td>FabHomeDecor Fabric Double Sofa Bed</td>\n",
       "      <td>[\"Furniture &gt;&gt; Living Room Furniture &gt;&gt; Sofa B...</td>\n",
       "      <td>SBEEH3QGU7MFYJFY</td>\n",
       "      <td>32157.0</td>\n",
       "      <td>22646.0</td>\n",
       "      <td>[\"http://img6a.flixcart.com/image/sofa-bed/j/f...</td>\n",
       "      <td>False</td>\n",
       "      <td>FabHomeDecor Fabric Double Sofa Bed (Finish Co...</td>\n",
       "      <td>No rating available</td>\n",
       "      <td>No rating available</td>\n",
       "      <td>FabHomeDecor</td>\n",
       "      <td>{\"product_specification\"=&gt;[{\"key\"=&gt;\"Installati...</td>\n",
       "    </tr>\n",
       "    <tr>\n",
       "      <th>2</th>\n",
       "      <td>f449ec65dcbc041b6ae5e6a32717d01b</td>\n",
       "      <td>2016-03-25 22:59:23 +0000</td>\n",
       "      <td>http://www.flipkart.com/aw-bellies/p/itmeh4grg...</td>\n",
       "      <td>AW Bellies</td>\n",
       "      <td>[\"Footwear &gt;&gt; Women's Footwear &gt;&gt; Ballerinas &gt;...</td>\n",
       "      <td>SHOEH4GRSUBJGZXE</td>\n",
       "      <td>999.0</td>\n",
       "      <td>499.0</td>\n",
       "      <td>[\"http://img5a.flixcart.com/image/shoe/7/z/z/r...</td>\n",
       "      <td>False</td>\n",
       "      <td>Key Features of AW Bellies Sandals Wedges Heel...</td>\n",
       "      <td>No rating available</td>\n",
       "      <td>No rating available</td>\n",
       "      <td>AW</td>\n",
       "      <td>{\"product_specification\"=&gt;[{\"key\"=&gt;\"Ideal For\"...</td>\n",
       "    </tr>\n",
       "    <tr>\n",
       "      <th>3</th>\n",
       "      <td>0973b37acd0c664e3de26e97e5571454</td>\n",
       "      <td>2016-03-25 22:59:23 +0000</td>\n",
       "      <td>http://www.flipkart.com/alisha-solid-women-s-c...</td>\n",
       "      <td>Alisha Solid Women's Cycling Shorts</td>\n",
       "      <td>[\"Clothing &gt;&gt; Women's Clothing &gt;&gt; Lingerie, Sl...</td>\n",
       "      <td>SRTEH2F6HUZMQ6SJ</td>\n",
       "      <td>699.0</td>\n",
       "      <td>267.0</td>\n",
       "      <td>[\"http://img5a.flixcart.com/image/short/6/2/h/...</td>\n",
       "      <td>False</td>\n",
       "      <td>Key Features of Alisha Solid Women's Cycling S...</td>\n",
       "      <td>No rating available</td>\n",
       "      <td>No rating available</td>\n",
       "      <td>Alisha</td>\n",
       "      <td>{\"product_specification\"=&gt;[{\"key\"=&gt;\"Number of ...</td>\n",
       "    </tr>\n",
       "    <tr>\n",
       "      <th>4</th>\n",
       "      <td>bc940ea42ee6bef5ac7cea3fb5cfbee7</td>\n",
       "      <td>2016-03-25 22:59:23 +0000</td>\n",
       "      <td>http://www.flipkart.com/sicons-all-purpose-arn...</td>\n",
       "      <td>Sicons All Purpose Arnica Dog Shampoo</td>\n",
       "      <td>[\"Pet Supplies &gt;&gt; Grooming &gt;&gt; Skin &amp; Coat Care...</td>\n",
       "      <td>PSOEH3ZYDMSYARJ5</td>\n",
       "      <td>220.0</td>\n",
       "      <td>210.0</td>\n",
       "      <td>[\"http://img5a.flixcart.com/image/pet-shampoo/...</td>\n",
       "      <td>False</td>\n",
       "      <td>Specifications of Sicons All Purpose Arnica Do...</td>\n",
       "      <td>No rating available</td>\n",
       "      <td>No rating available</td>\n",
       "      <td>Sicons</td>\n",
       "      <td>{\"product_specification\"=&gt;[{\"key\"=&gt;\"Pet Type\",...</td>\n",
       "    </tr>\n",
       "  </tbody>\n",
       "</table>\n",
       "</div>"
      ],
      "text/plain": [
       "                            uniq_id            crawl_timestamp  \\\n",
       "0  c2d766ca982eca8304150849735ffef9  2016-03-25 22:59:23 +0000   \n",
       "1  7f7036a6d550aaa89d34c77bd39a5e48  2016-03-25 22:59:23 +0000   \n",
       "2  f449ec65dcbc041b6ae5e6a32717d01b  2016-03-25 22:59:23 +0000   \n",
       "3  0973b37acd0c664e3de26e97e5571454  2016-03-25 22:59:23 +0000   \n",
       "4  bc940ea42ee6bef5ac7cea3fb5cfbee7  2016-03-25 22:59:23 +0000   \n",
       "\n",
       "                                         product_url  \\\n",
       "0  http://www.flipkart.com/alisha-solid-women-s-c...   \n",
       "1  http://www.flipkart.com/fabhomedecor-fabric-do...   \n",
       "2  http://www.flipkart.com/aw-bellies/p/itmeh4grg...   \n",
       "3  http://www.flipkart.com/alisha-solid-women-s-c...   \n",
       "4  http://www.flipkart.com/sicons-all-purpose-arn...   \n",
       "\n",
       "                            product_name  \\\n",
       "0    Alisha Solid Women's Cycling Shorts   \n",
       "1    FabHomeDecor Fabric Double Sofa Bed   \n",
       "2                             AW Bellies   \n",
       "3    Alisha Solid Women's Cycling Shorts   \n",
       "4  Sicons All Purpose Arnica Dog Shampoo   \n",
       "\n",
       "                               product_category_tree               pid  \\\n",
       "0  [\"Clothing >> Women's Clothing >> Lingerie, Sl...  SRTEH2FF9KEDEFGF   \n",
       "1  [\"Furniture >> Living Room Furniture >> Sofa B...  SBEEH3QGU7MFYJFY   \n",
       "2  [\"Footwear >> Women's Footwear >> Ballerinas >...  SHOEH4GRSUBJGZXE   \n",
       "3  [\"Clothing >> Women's Clothing >> Lingerie, Sl...  SRTEH2F6HUZMQ6SJ   \n",
       "4  [\"Pet Supplies >> Grooming >> Skin & Coat Care...  PSOEH3ZYDMSYARJ5   \n",
       "\n",
       "   retail_price  discounted_price  \\\n",
       "0         999.0             379.0   \n",
       "1       32157.0           22646.0   \n",
       "2         999.0             499.0   \n",
       "3         699.0             267.0   \n",
       "4         220.0             210.0   \n",
       "\n",
       "                                               image  is_FK_Advantage_product  \\\n",
       "0  [\"http://img5a.flixcart.com/image/short/u/4/a/...                    False   \n",
       "1  [\"http://img6a.flixcart.com/image/sofa-bed/j/f...                    False   \n",
       "2  [\"http://img5a.flixcart.com/image/shoe/7/z/z/r...                    False   \n",
       "3  [\"http://img5a.flixcart.com/image/short/6/2/h/...                    False   \n",
       "4  [\"http://img5a.flixcart.com/image/pet-shampoo/...                    False   \n",
       "\n",
       "                                         description       product_rating  \\\n",
       "0  Key Features of Alisha Solid Women's Cycling S...  No rating available   \n",
       "1  FabHomeDecor Fabric Double Sofa Bed (Finish Co...  No rating available   \n",
       "2  Key Features of AW Bellies Sandals Wedges Heel...  No rating available   \n",
       "3  Key Features of Alisha Solid Women's Cycling S...  No rating available   \n",
       "4  Specifications of Sicons All Purpose Arnica Do...  No rating available   \n",
       "\n",
       "        overall_rating         brand  \\\n",
       "0  No rating available        Alisha   \n",
       "1  No rating available  FabHomeDecor   \n",
       "2  No rating available            AW   \n",
       "3  No rating available        Alisha   \n",
       "4  No rating available        Sicons   \n",
       "\n",
       "                              product_specifications  \n",
       "0  {\"product_specification\"=>[{\"key\"=>\"Number of ...  \n",
       "1  {\"product_specification\"=>[{\"key\"=>\"Installati...  \n",
       "2  {\"product_specification\"=>[{\"key\"=>\"Ideal For\"...  \n",
       "3  {\"product_specification\"=>[{\"key\"=>\"Number of ...  \n",
       "4  {\"product_specification\"=>[{\"key\"=>\"Pet Type\",...  "
      ]
     },
     "execution_count": 7,
     "metadata": {},
     "output_type": "execute_result"
    }
   ],
   "source": [
    "data = pd.read_excel(\"flipkart_com-ecommerce_sample.xlsx\")\n",
    "data.head()"
   ]
  },
  {
   "cell_type": "code",
   "execution_count": 8,
   "metadata": {},
   "outputs": [
    {
     "data": {
      "text/plain": [
       "(20000, 15)"
      ]
     },
     "execution_count": 8,
     "metadata": {},
     "output_type": "execute_result"
    }
   ],
   "source": [
    "data.shape"
   ]
  },
  {
   "cell_type": "markdown",
   "metadata": {},
   "source": [
    "there are 15 columns and 20000 data points in total. </br>\n",
    "For now,I'll try to create a model only using the description column as the data. If good results are not obtained, I'll try to use other features as well. </br>\n",
    "Converting product category tree and description to a list."
   ]
  },
  {
   "cell_type": "code",
   "execution_count": 9,
   "metadata": {},
   "outputs": [],
   "source": [
    "category_tree = (data[\"product_category_tree\"]).to_list()\n",
    "product_descr = data[\"description\"].to_list()\n",
    "\n"
   ]
  },
  {
   "cell_type": "markdown",
   "metadata": {},
   "source": [
    "From the category tree, since we need to predict the primary category, I'll only extract the root category, eg -> Clothing from [\"Clothing >> Women's Clothing >> Lingerie, Sleep & Swimwear >> Shorts >> Alisha Shorts >> Alisha Solid Women's Cycling Shorts\"] and discard the rest. </br>\n",
    "\n",
    "\n",
    "Now Creating a list of tuple pairs, having product description and the primary category as pairs. Will use split function to extract the root category. "
   ]
  },
  {
   "cell_type": "code",
   "execution_count": 10,
   "metadata": {},
   "outputs": [],
   "source": [
    "list_pair=[]\n",
    "for x in range(len(category_tree)):\n",
    "    list_pair.append((product_descr[x],category_tree[x].split(\">>\")[0][2:-1]))\n"
   ]
  },
  {
   "cell_type": "markdown",
   "metadata": {},
   "source": [
    "Moving ahead, we need to see how many target categories are available. If very less data is available for any product category, data for that category will have to be discarded. </br>\n",
    "So now, I'll create a dictionary, and count the number of data points for each category."
   ]
  },
  {
   "cell_type": "code",
   "execution_count": 11,
   "metadata": {},
   "outputs": [],
   "source": [
    "dic = {}\n",
    "for descr,category in list_pair:\n",
    "    if category in dic.keys():\n",
    "        dic[category]+=1\n",
    "    else:\n",
    "        dic[category] = 1"
   ]
  },
  {
   "cell_type": "markdown",
   "metadata": {},
   "source": [
    "Sorting dictionary in descending order, to check number of data points for each category."
   ]
  },
  {
   "cell_type": "code",
   "execution_count": 12,
   "metadata": {},
   "outputs": [
    {
     "name": "stdout",
     "output_type": "stream",
     "text": [
      "{'Clothing': 6198, 'Jewellery': 3531, 'Footwear': 1227, 'Mobiles & Accessories': 1099, 'Automotive': 1012, 'Home Decor & Festive Needs': 929, 'Beauty and Personal Care': 710, 'Home Furnishing': 700, 'Kitchen & Dining': 647, 'Computers': 578, 'Watches': 530, 'Baby Care': 483, 'Tools & Hardware': 391, 'Toys & School Supplies': 330, 'Pens & Stationery': 313, 'Bags, Wallets & Belts': 265, 'Furniture': 180, 'Sports & Fitness': 166, 'Cameras & Accessories': 82, 'Home Improvement': 81, 'Health & Personal Care Appliances': 43, 'Gaming': 35, 'Sunglasses': 35, 'Pet Supplies': 30, 'Home & Kitchen': 24, 'Home Entertainment': 19, 'eBooks': 15, 'Eyewear': 10, 'Clovia Women\\'s Full Coverage Bra\"': 9, 'Vishudh Printed Women\\'s Straight Kurta\"': 8, 'Lilliput Top Baby Girl\\'s  Combo\"': 8, 'Olvin Aviator Sunglasses\"': 7, 'Clovia Women\\'s T-Shirt Bra\"': 6, 'MASARA Solid Women\\'s Straight Kurta\"': 5, 'Sunglasses\"': 5, 'Dressberry Gold Synthetic  Clutch\"': 4, 'Pu-Good Women Flats\"': 4, 'FEET FLOW Women Flats\"': 4, 'Olvin Wayfarer Sunglasses\"': 4, 'Firangi Cotton, Polyester Free Floor Mat Firangi...\"': 4, 'Household Supplies': 4, 'Indistar Self Design Viscose Women\\'s Stole\"': 3, 'Treppe Bellies\"': 3, 'Frabjous German silver Rings For Women Alloy Zir...\"': 3, 'Pout Brass Bangle\"': 3, 'Olvin Oval Sunglasses\"': 3, 'Dilan Jewels Alloy Zircon 18K Yellow Gold Bangle...\"': 3, 'Dassler Slim Fit Women\\'s Multicolor Jeans\"': 3, 'Ruhi\\'s Creations Polyester Silk Blend Cartoon Ki...\"': 3, 'Food & Nutrition': 2, 'Mast & Harbour Black Synthetic  Clutch\"': 2, 'Dressberry Black Synthetic  Clutch\"': 2, 'ANAND ARCHIES Girls Flats\"': 2, 'Wearable Smart Devices': 2, 'TSG Breeze Printed Women\\'s Round Neck Multicolor...\"': 2, 'HANS Men\\'s Crew Length Socks\"': 2, 'TIMBERLAKE Slim Fit Fit Women\\'s Brown Jeans\"': 2, 'COIRFIT Single Coir Mattress\"': 2, 'Siyas Collection Lac Cubic Zirconia Bangle Set (...\"': 2, 'killys Men\\'s Solid No Show Socks\"': 2, 'INDILEGO Women Flats\"': 2, 'TIMBERLAKE Slim Fit Fit Women\\'s Red Jeans\"': 2, 'Olvin Rectangular Sunglasses\"': 2, 'D&D Women Flats\"': 2, 'Ajaero Slim Fit Women\\'s Dark Blue Jeans\"': 2, 'The Cotton Company Solid Women\\'s Polo Neck Pink ...\"': 2, 'Camey Men\\'s Quarter Length Socks\"': 2, 'fourgee Slim Fit Women\\'s Blue Jeans\"': 2, 'Urban Girl Foundation Brush (Pack of 10)\"': 2, 'Crafty Hands Kutchchi Mirrorwork Tapestry (Maroon)\"': 2, 'GALLOWAY skinny Fit Women\\'s Jeans\"': 2, 'EASIES Solid Single Breasted Casual Men\\'s Blazer\"': 2, 'Corcepts Universal Tablet HD Ultra Clear Transpa...\"': 2, 'Eternal Gandhi Super Series Crystal Paper Weight...\"': 1, 'Bengal Blooms Rose Artificial Plant  with Pot (3...\"': 1, 'Vishudh Printed Women\\'s Anarkali Kurta\"': 1, 'BuildTrack PIR Wireless Motion Sensor - One Swit...\"': 1, 'Skayvon SUMMERSIBLE SINGLE PHASE PUMP CONTROLLER...\"': 1, 'Skayvon SUBMERSIBBLE THREE PHASE PUMP CONTROLLER...\"': 1, 'Behringer Xenyx 502 Analog Sound Mixer\"': 1, 'Noor Embroidered Women\\'s Straight Kurta\"': 1, 'Libas Printed Women\\'s A-line Kurta\"': 1, 'Libas Printed Women\\'s Anarkali Kurta\"': 1, 'Cellbazaar Blackberry 8520 WHITE LCD LCD (YIT-562)\"': 1, 'Sisel Printed Poly Cotton Women\\'s Stole\"': 1, 'Knight Ace Kraasa Sports Running Shoes, Cycling ...\"': 1, 'Glacier Running Shoes\"': 1, 'Asics Gel-Cumulus 17 Running Shoes\"': 1, 'Mast & Harbour Gold Synthetic  Clutch\"': 1, 'Asics Gel-Kayano 22 Running Shoes\"': 1, 'Dressberry Orange Synthetic  Clutch\"': 1, 'Dressberry Green Synthetic  Clutch\"': 1, 'Escan Lace Up\"': 1, 'Nine Maternity Wear Women\\'s Fit and Flare Dress\"': 1, 'ANAND ARCHIES Girls Wedges\"': 1, 'Prime Printed 8 Seater Table Cover (Multicolor, ...\"': 1, 'Speedwav 240437 Sun Shade For Hyundai i10 (Dashb...\"': 1, 'Vitamins Solid Baby Girl\\'s Basic Shorts\"': 1, 'Sumo Baby Walker (Red)\"': 1, 'Kombee Girl\\'s Printed Red, Pink Top & Capri Set\"': 1, 'NEWGEN TECH EO-HS3303 218 Wired Headset (White)\"': 1, 'Automation & Robotics': 1, 'K&P Dr.Ambedkar Large 04 Showpiece  -  19 cm (Po...\"': 1, 'K&P Lord Ganesha Large 03 Showpiece  -  19 cm (P...\"': 1, 'Adidas IND PRO THI GUA Thigh Guard (White, Blue,...\"': 1, 'Bootwale Bellies\"': 1, 'clickforsign Avoid Contanimation Wash your Hands...\"': 1, 'Kanvas Bellies\"': 1, 'Klaur Melbourne Bellies\"': 1, 'Clickforsign Vehicles parked Illegally will be t...\"': 1, 'clickforsign Sound horn Before entering Emergenc...\"': 1, 'kem Flow Gold skinny Fit Baby Girl\\'s Blue Jeans\"': 1, 'Carbanao Chrome Grill Chevrolet Cruze Car Grill ...\"': 1, 'Oddy RS 1.5 X 2 100 Sheets Self Stick Reposition...\"': 1, 'Synergy SFJB0105 Grocery Bag (Blue)\"': 1, 'SHOPOJ White Paper Sky Lantern (80 cm X 34 cm, P...\"': 1, 'SUPERMOD Men\\'s Brief\"': 1, 'Zevrr Sterling Silver Swarovski Zirconia Platinu...\"': 1, 'Rasav Jewels Yellow Gold Diamond 18 K Ring\"': 1, 'Royal Seal Creations 40 ST COLOR Silver Zircon N...\"': 1, 'ANASAZI Casual 3/4 Sleeve Solid Women\\'s Top\"': 1, 'INVENTURE RETAIL Nail Cutter\"': 1, 'Fabpoppy Printed Women\\'s Jumpsuit\"': 1, 'Power Smart Quick Charging Pack For PAN CGR-DU-2...\"': 1, 'Gking Hand Stiched Steering Cover For Maruti Ert...\"': 1, 'GM Power mate 4 Strip Surge Protector (White)\"': 1, 'Shrih SH-0192 Wired USB Flexible Keyboard (Red)\"': 1, 'Threads & Pals Full Sleeve Printed, Solid Men\\'s ...\"': 1, 'Threads & Pals Full Sleeve Self Design Men\\'s Swe...\"': 1, 'Gking Hand Stiched Steering Cover For Renault Sc...\"': 1, 'Power Smart Quick Charging Pack For PAN CGR-D28 ...\"': 1, 'xy decor Cotton Sofa Cover (white Pack of 6)\"': 1, 'Favourite BikerZ 3514 RAD air filter Ionic Air F...\"': 1, 'Disney Printed Baby Boy\\'s Hooded Grey T-Shirt\"': 1, 'Little Stars Girl\\'s A-line Multicolor Dress\"': 1, 'The Crazy Me 1 Compartments Eco-Friendly leather...\"': 1, 'fourgee Slim Fit Boy\\'s Black Jeans\"': 1, 'Laser X Checkered Men\\'s Boxer (Pack of 4)\"': 1, 'INKT INKT A5 Wiro Notebook A5 Notebook Ring Boun...\"': 1, 'E\\'Hiose Girl\\'s Leggings (Pack of 6)\"': 1, 'Lucky Thailand GL/ LG30 Glass (300 ml, Clear, Pa...\"': 1, 'Ocean GP/Pyramid Glass (300 ml, Clear, Pack of 12)\"': 1, 'Wella Elements Leight Weight Renewing Conditione...\"': 1, 'classyworld Brass Cufflink (Silver-01)\"': 1, 'Urban Girl Foundation Brush (Pack of 12)\"': 1, 'Jazz Eyewears Over-sized Sunglasses\"': 1, 'Miss Wow Slim Fit Women\\'s Blue Jeans\"': 1, 'SMART TRADERS Women Wedges\"': 1, 'PrivateLifes MasterPiece Women\\'s Push-up Bra\"': 1, 'Spa Culture Fit Fit Women\\'s Black Jeans\"': 1, 'run of luck Solid Women\\'s Round Neck Dark Blue T...\"': 1, 'SAY UV Sterilizer Solid Filter Cartridge (0, Pac...\"': 1, 'Urban Girl Foundation Brush (Pack of 7)\"': 1, 'Legmark Slim Fit Women\\'s Light Blue Jeans\"': 1, 'piftif Women\\'s Sports Bra\"': 1, 'REMSON INDIA Women Flats\"': 1, 'Starsy Solid Women\\'s Round Neck Green T-Shirt\"': 1, 'Oly Two Fit Fit Women\\'s Black Jeans\"': 1, 'soie Fashion Women\\'s Sports Bra\"': 1, 'Auraa Men\\'s, Women\\'s Solid No Show Socks\"': 1, 'e-Fresh Boy\\'s Brief (Pack of 5)\"': 1, 'TIMBERLAKE Slim Fit Fit Women\\'s Blue Jeans\"': 1, 'NEWGEN TECH EO-HS3303 179 Wired Headset (White)\"': 1, 'Attitude Printed Women\\'s Round Neck Black T-Shirt\"': 1, 'Kalpaveda Copper Bowl (Gold, Pack of 1)\"': 1, 'Walkline Slippers\"': 1, 'e-Fresh Baby Boy\\'s Brief (Pack of 10)\"': 1, 'NEWGEN TECH EO-HS3303 58 Wired Headset (White)\"': 1, 'Ruhi\\'s Creations Cotton Floral King sized Double...\"': 1, 'SAY Thread Wounded Candle 10\\\\\" Set of 4 pcs Solid...\"': 1, 'Samprada Modern art Tapestry (Black, Pink)\"': 1, 'Naaz Dart game Board Game\"': 1, 'Oly Two Fit Fit Women\\'s Dark Blue Jeans\"': 1, 'classyworld Brass Cufflink (Grey-02)\"': 1, 'Viral Girl Women\\'s Full Coverage Bra\"': 1, 'Wellon Fittings set (16 pieces) for RO Water Pur...\"': 1, 'Amita Home Furnishing Cotton Printed Single Beds...\"': 1, 'Impala Alloy Cufflink (White)\"': 1, 'Naaz 2 in 1 Paper Quilling Board Game\"': 1, 'Starsy Printed Women\\'s Round Neck Black T-Shirt\"': 1, 'Fly U Slim Fit Fit Women\\'s Brown Jeans\"': 1, 'tadd Men\\'s, Women\\'s Ankle Length Socks\"': 1, 'Dolz Slim Fit Fit Women\\'s Brown Jeans\"': 1, 'Shrih Toe & Foot Protector Pain Relief Pad (Pack...\"': 1, 'LondonHouze Printed Women\\'s Round Neck Grey T-Shirt\"': 1, 'Legmark Slim Fit Women\\'s Blue Jeans\"': 1, 'Linzina Fashions LIN-HOSS-1.5 Faucet Set\"': 1, 'soie Fashion Women\\'s Full Coverage Bra\"': 1, 'Clovia Women\\'s Plunge Bra\"': 1, 'Foot Candy Women Flats\"': 1, 'Amita Home Furnishing Cotton Floral Single Bedsh...\"': 1, '883 Police Full Sleeve Solid Men\\'s Jacket\"': 1, 'Style World Women Flats\"': 1, 'Just Wow Women Flats\"': 1, 'SMART TRADERS Women Flats\"': 1, 'Ruhi\\'s Creations Cotton Cartoon King sized Doubl...\"': 1, 'SJ Bushnell 122/1000M Binoculars (36 mm, Black)\"': 1, 'SJ Barstel 56m / 1000m Binoculars (30 mm, Black)\"': 1, 'SJ Comet Zoom DPSI Binoculars (30 mm, Black)\"': 1, 'Pia International 10X70X70 WITH ZOOM SAKURA Bino...\"': 1, 'SHOPOJ Purple Paper Sky Lantern (80 cm X 34 cm, ...\"': 1, 'Car vastra 1pcs Car Vastra Honda Beige Backrest ...\"': 1, 'SHOPOJ Yellow Paper Sky Lantern (80 cm X 34 cm, ...\"': 1, 'SHOPOJ Multicolor Paper Sky Lantern (80 cm X 34 ...\"': 1, 'Sj Bushnell 119M / 1000 Binoculars (36 mm, Black)\"': 1, 'FIFO Bottom Women\\'s  Combo\"': 1, 'Himmlisch 20503 Car Bottle Holder (Plastic)\"': 1, 'V&G Professional HD-37 Hair Dryer (Red)\"': 1, 'Anuradha Art Stylish Hair Clip (Blue)\"': 1, 'Shonaya Printed Bhagalpuri Art Silk Sari\"': 1, 'Anuradha Art Stylish Hair Clip (Black)\"': 1, 'JUSF2 Black Color Hair Band (Multicolor)\"': 1, 'Sonaxo Men Running Shoes\"': 1, 'Koie  Battery - For Samsung 7562 Premium Quality...\"': 1, 'OEM 170774 Bike Side Stand\"': 1, 'Kittens Boys Flats\"': 1, 'AutoKraftZ Optimum Locking Device For Bajaj Puls...\"': 1, 'Dremel 2615.023.132 Plastic Friction Work Bench ...\"': 1, 'ABEEZ Boys, Men, Girls (Black, Pack of 1)\"': 1, 'Joyra Heart Sterling Silver Swarovski Crystal, S...\"': 1, 'BLM Casual Printed Women\\'s Kurti\"': 1, 'SMART DENIM Solid Women\\'s White Denim Shorts\"': 1, 'ATV Pouch for Acer Liquid Z330 (STEEL BLUE)\"': 1, 'Be 13 Printed Boy\\'s Round Neck T-Shirt (Pack of 2)\"': 1, 'Taurus Black & white Lace Up\"': 1, 'Abhinl Fashion Cotton Printed Semi-stitched Salw...\"': 1, 'UFO Self Design Round Neck Casual Girl\\'s Sweater\"': 1, 'LGRL Women\\'s Leggings\"': 1, 'Breakbounce Men\\'s Vest\"': 1, 'UFO Full Sleeve Solid Girl\\'s Jacket\"': 1, 'BALAJI EXPORTS Bottled Wine Cooler (9 Bottles)\"': 1, 'Siemens 5SL Betagard 5SL MCB (1)\"': 1, 'Remax Rm-10000 Remax Vanguard 10000mah 10000 mAh...\"': 1, 'Boreal Roller Brush\"': 1, 'Srajanaa sr114 Travel Shaving Kit (Black)\"': 1, 'Selfcare Women\\'s Thong Panty (Pack of 3)\"': 1, 'Sugandh Vatika 24 Natural Masala, Sandal Incense...\"': 1, 'Arial Morris Women Flats\"': 1, 'Zikrak Exim Women Wedges\"': 1, 'Zixtro Bug (Black, Backpack)\"': 1, 'New Darling Women\\'s Printed Top & Pyjama Set\"': 1, 'RajeshFashion Women\\'s Leggings\"': 1, 'United Colors of Benetton Girl\\'s Trousers\"': 1, 'SRPC BAOER STARWALKER EXECUTIVE ROLLERBALL Pen G...\"': 1, 'Kraft Seeds Rosemary Herb (Pack Of 5) Seed (75 p...\"': 1, 'Autoplus M AP15 Arm Sleeve (Black)\"': 1, 'Autoplus M AP18 Arm Sleeve (Black)\"': 1, 'Kraft Seeds Thyme Herbs Seed (200 per packet)\"': 1, 'Kraft Seeds Dill Herb Seed (50 per packet)\"': 1, 'Leading lady Women\\'s Camisole\"': 1, 'Yo Baby Girl\\'s Trousers\"': 1, 'THERISE MD0005 Wired Headset (Pink)\"': 1, 'Nut Khut Embroidered Kurta & Churidar\"': 1, 'Vinenzia Printed Winter Men\\'s Gloves\"': 1, 'Planet Waves Woodstock Strap (Multicolor)\"': 1, 'Speedwav 216456 Manual Rear View Mirror (Right, ...\"': 1, 'Speedwav 216510 Manual Rear View Mirror (Right, ...\"': 1, 'Speedwav 216552 Manual Rear View Mirror (Right, ...\"': 1, 'Speedwav 186136 Manual Rear View Mirror (Right, ...\"': 1, 'Small Toes Bellies\"': 1, 'Clovia Lingerie Set\"': 1, 'Speedwav 186926 Royal Enfield 350 Twin Spark LED...\"': 1, 'Speedwav 186879 Bajaj Pulsar 200 NS DTS-i LED In...\"': 1, 'Pazel Slim Fit Men\\'s Jeans\"': 1, 'SMART TRADERS Girls Bellies\"': 1, 'Areon Luxurious Fragrance Long Lasting Car,Home,...\"': 1}\n"
     ]
    }
   ],
   "source": [
    "category_dict = dict(sorted(dic.items(), key=lambda item: item[1],reverse = True))\n",
    "print(category_dict)"
   ]
  },
  {
   "cell_type": "code",
   "execution_count": 13,
   "metadata": {},
   "outputs": [
    {
     "data": {
      "text/plain": [
       "266"
      ]
     },
     "execution_count": 13,
     "metadata": {},
     "output_type": "execute_result"
    }
   ],
   "source": [
    "len(category_dict)"
   ]
  },
  {
   "cell_type": "markdown",
   "metadata": {},
   "source": [
    "We can see that in total there are 266 categories, but very less data is available for most of the categories. I felt that atleast 10 data points (0.05% of entire corpus) should be available for each category. Model would not be accurately be able to predict categories having less data points.</br> So, eliminating such categories below"
   ]
  },
  {
   "cell_type": "code",
   "execution_count": 14,
   "metadata": {},
   "outputs": [],
   "source": [
    "tgt_categories=[]\n",
    "for key in dic:\n",
    "    if dic[key]>=10:\n",
    "        tgt_categories.append(key)"
   ]
  },
  {
   "cell_type": "code",
   "execution_count": 15,
   "metadata": {},
   "outputs": [
    {
     "data": {
      "text/plain": [
       "28"
      ]
     },
     "execution_count": 15,
     "metadata": {},
     "output_type": "execute_result"
    }
   ],
   "source": [
    "len(tgt_categories)"
   ]
  },
  {
   "cell_type": "markdown",
   "metadata": {},
   "source": [
    "As we can see above, now we have 28 product categories left. So now will keep only data points of these categories"
   ]
  },
  {
   "cell_type": "code",
   "execution_count": 16,
   "metadata": {},
   "outputs": [],
   "source": [
    "final_list=[]\n",
    "X_descr = []\n",
    "y_category= []\n",
    "for descr,category in list_pair:\n",
    "    if category in tgt_categories:\n",
    "        if(type(descr)!=float):\n",
    "            X_descr.append(descr)\n",
    "            y_category.append(category)"
   ]
  },
  {
   "cell_type": "code",
   "execution_count": 17,
   "metadata": {},
   "outputs": [
    {
     "name": "stdout",
     "output_type": "stream",
     "text": [
      "19661\n",
      "19661\n"
     ]
    }
   ],
   "source": [
    "print(len(X_descr))\n",
    "print(len(y_category))\n"
   ]
  },
  {
   "cell_type": "markdown",
   "metadata": {},
   "source": [
    "Now we have 19961 data points left. We have discarded 339 data points due to insuffificient data. </br>\n",
    "Now converting product categories into integers from 0-27"
   ]
  },
  {
   "cell_type": "code",
   "execution_count": 18,
   "metadata": {},
   "outputs": [],
   "source": [
    "tgt_labels= []\n",
    "for categ in y_category:\n",
    "    for i in range(len(tgt_categories)):\n",
    "        if categ==tgt_categories[i]:\n",
    "            tgt_labels.append(i)"
   ]
  },
  {
   "cell_type": "markdown",
   "metadata": {},
   "source": [
    "Splitting data into train and test sets using sklearn's train_test_split. Have used 80% data for training, and 20% for testing"
   ]
  },
  {
   "cell_type": "code",
   "execution_count": 19,
   "metadata": {},
   "outputs": [],
   "source": [
    "X_train, X_test, y_train, y_test = train_test_split(X_descr, tgt_labels, test_size=0.2, random_state=42,shuffle=True)"
   ]
  },
  {
   "cell_type": "markdown",
   "metadata": {},
   "source": [
    "Now we have the preprocessed datasets. </br>\n",
    "For tokenising, I have used pretrain BERT Tokenizer from huggingface.</br>\n",
    "Now tokenizing the dataset."
   ]
  },
  {
   "cell_type": "code",
   "execution_count": 20,
   "metadata": {},
   "outputs": [],
   "source": [
    "X_train_tokenized = []\n",
    "X_test_tokenized = []\n",
    "tokenizer = BertTokenizer.from_pretrained(\"bert-base-cased\")\n",
    "for elem in X_train:\n",
    "       X_train_tokenized.append((tokenizer.tokenize(elem)))\n",
    "        \n",
    "for elem in X_test:\n",
    "       X_test_tokenized.append((tokenizer.tokenize(elem)))\n"
   ]
  },
  {
   "cell_type": "markdown",
   "metadata": {},
   "source": [
    "Creating a list of of all unique tokens after tokenizing."
   ]
  },
  {
   "cell_type": "code",
   "execution_count": 22,
   "metadata": {},
   "outputs": [],
   "source": [
    "tokens = []\n",
    "for x in X_train_tokenized:\n",
    "    for tok in x:\n",
    "        tokens.append(tok)\n",
    "tokens = list(set(tokens))\n"
   ]
  },
  {
   "cell_type": "markdown",
   "metadata": {},
   "source": [
    "Now, we'll create a dictionary having each unique element as the key, and an index value for each token"
   ]
  },
  {
   "cell_type": "code",
   "execution_count": 24,
   "metadata": {},
   "outputs": [],
   "source": [
    "dic_tok = {}\n",
    "for i in range(len(tokens)):\n",
    "            \n",
    "        dic_tok[tokens[i]] = i + 1"
   ]
  },
  {
   "cell_type": "code",
   "execution_count": 25,
   "metadata": {},
   "outputs": [
    {
     "name": "stdout",
     "output_type": "stream",
     "text": [
      "13017\n"
     ]
    }
   ],
   "source": [
    "vocab_size = len(tokens)\n",
    "print(vocab_size)"
   ]
  },
  {
   "cell_type": "markdown",
   "metadata": {},
   "source": [
    "In total, we have 13017 unique tokens from the training corpus"
   ]
  },
  {
   "cell_type": "markdown",
   "metadata": {},
   "source": [
    "Further ahead, using 300 Dimension GloVe embeddings for the CNN model which will be used. So, getting GloVe embeddings ready"
   ]
  },
  {
   "cell_type": "code",
   "execution_count": 26,
   "metadata": {},
   "outputs": [
    {
     "name": "stdout",
     "output_type": "stream",
     "text": [
      "Loaded 400000 word vectors.\n"
     ]
    }
   ],
   "source": [
    "embeddings_index = dict()\n",
    "f = open('/media/akshat/Data/MIDAS/glove.6B.300d.txt')\n",
    "\n",
    "for line in f:\n",
    "    values = line.split()\n",
    "    word = values[0]\n",
    "    coefs = np.asarray(values[1:], dtype='float32')\n",
    "    embeddings_index[word] = coefs\n",
    "\n",
    "f.close()\n",
    "print('Loaded %s word vectors.' % len(embeddings_index))"
   ]
  },
  {
   "cell_type": "markdown",
   "metadata": {},
   "source": [
    "Now, creating an embedding matrix having shape (vocab_size,300) (since we are using 300d embeddings) which will be the first layer of the CNN."
   ]
  },
  {
   "cell_type": "code",
   "execution_count": 37,
   "metadata": {},
   "outputs": [],
   "source": [
    "i=0\n",
    "embedding_matrix = np.zeros((vocab_size+1, 300))\n",
    "\n",
    "for word in dic_tok.keys():\n",
    "    embedding_vector = embeddings_index.get(word)\n",
    "    if embedding_vector is not None:\n",
    "        embedding_matrix[i] = embedding_vector\n",
    "        i+=1"
   ]
  },
  {
   "cell_type": "markdown",
   "metadata": {},
   "source": [
    "Now, to feed the dataset into the sequential CNN model, we will encode the sentences. For this we'll be using the token dictionary we created for all unique tokens (dic_tok). Will replace each word by their respective value. </br>\n",
    "We will also truncate and pad the sequences. All sentences having less than 100 tokens will be padded to 100, and sequences with more tokens will be truncated."
   ]
  },
  {
   "cell_type": "code",
   "execution_count": 28,
   "metadata": {},
   "outputs": [],
   "source": [
    "def encode(string):\n",
    "        b = []\n",
    "        for i in string:\n",
    "            if i in dic_tok:\n",
    "                b.append(dic_tok[i])\n",
    "            else:\n",
    "                continue\n",
    "        if len(b) < 100:\n",
    "            for i in range(100 - len(b)):\n",
    "                b.append(0)\n",
    "        elif len(b) >= 100:\n",
    "            b=b[:100]\n",
    "        return b"
   ]
  },
  {
   "cell_type": "markdown",
   "metadata": {},
   "source": [
    "Calling the processed dataset as X_train_final and X_test_final"
   ]
  },
  {
   "cell_type": "code",
   "execution_count": 29,
   "metadata": {},
   "outputs": [],
   "source": [
    "X_train_final = []\n",
    "for x_to_encode in X_train_tokenized:\n",
    "            X_train_final.append(encode(x_to_encode))\n",
    "X_train_final = np.array(X_train_final)\n"
   ]
  },
  {
   "cell_type": "code",
   "execution_count": 30,
   "metadata": {},
   "outputs": [],
   "source": [
    "X_test_final = []\n",
    "for x_to_encode in X_test_tokenized:\n",
    "            X_test_final.append(encode(x_to_encode))\n",
    "X_test_final = np.array(X_test_final)"
   ]
  },
  {
   "cell_type": "markdown",
   "metadata": {},
   "source": [
    "Also converting category_list to categorical arrays to input into the model"
   ]
  },
  {
   "cell_type": "code",
   "execution_count": 31,
   "metadata": {},
   "outputs": [],
   "source": [
    "y_train_final = to_categorical(y_train, num_classes=len(tgt_categories))\n",
    "y_test_final = to_categorical(y_test, num_classes=len(tgt_categories))"
   ]
  },
  {
   "cell_type": "markdown",
   "metadata": {},
   "source": [
    "I have used a CNN model using the Keras Framework having an embedding layer, three Conv1D layers, 1 Dense layer and then a softmax layer for prediction. More details can be found in the README file"
   ]
  },
  {
   "cell_type": "code",
   "execution_count": 50,
   "metadata": {},
   "outputs": [
    {
     "name": "stdout",
     "output_type": "stream",
     "text": [
      "Model: \"sequential_13\"\n",
      "_________________________________________________________________\n",
      "Layer (type)                 Output Shape              Param #   \n",
      "=================================================================\n",
      "embedding_13 (Embedding)     (None, 100, 300)          3905400   \n",
      "_________________________________________________________________\n",
      "conv1d_29 (Conv1D)           (None, 98, 128)           115328    \n",
      "_________________________________________________________________\n",
      "batch_normalization_40 (Batc (None, 98, 128)           512       \n",
      "_________________________________________________________________\n",
      "max_pooling1d_29 (MaxPooling (None, 32, 128)           0         \n",
      "_________________________________________________________________\n",
      "conv1d_30 (Conv1D)           (None, 30, 256)           98560     \n",
      "_________________________________________________________________\n",
      "batch_normalization_41 (Batc (None, 30, 256)           1024      \n",
      "_________________________________________________________________\n",
      "max_pooling1d_30 (MaxPooling (None, 15, 256)           0         \n",
      "_________________________________________________________________\n",
      "conv1d_31 (Conv1D)           (None, 13, 512)           393728    \n",
      "_________________________________________________________________\n",
      "batch_normalization_42 (Batc (None, 13, 512)           2048      \n",
      "_________________________________________________________________\n",
      "max_pooling1d_31 (MaxPooling (None, 4, 512)            0         \n",
      "_________________________________________________________________\n",
      "flatten_11 (Flatten)         (None, 2048)              0         \n",
      "_________________________________________________________________\n",
      "dense_22 (Dense)             (None, 256)               524544    \n",
      "_________________________________________________________________\n",
      "batch_normalization_43 (Batc (None, 256)               1024      \n",
      "_________________________________________________________________\n",
      "activation_11 (Activation)   (None, 256)               0         \n",
      "_________________________________________________________________\n",
      "dropout_11 (Dropout)         (None, 256)               0         \n",
      "_________________________________________________________________\n",
      "dense_23 (Dense)             (None, 28)                7196      \n",
      "=================================================================\n",
      "Total params: 5,049,364\n",
      "Trainable params: 5,047,060\n",
      "Non-trainable params: 2,304\n",
      "_________________________________________________________________\n",
      "Epoch 1/10\n",
      "246/246 [==============================] - 27s 105ms/step - loss: 1.1182 - accuracy: 0.7185 - val_loss: 0.6694 - val_accuracy: 0.8541\n",
      "Epoch 2/10\n",
      "246/246 [==============================] - 27s 112ms/step - loss: 0.1462 - accuracy: 0.9621 - val_loss: 0.2357 - val_accuracy: 0.9387\n",
      "Epoch 3/10\n",
      "246/246 [==============================] - 28s 115ms/step - loss: 0.0470 - accuracy: 0.9891 - val_loss: 0.1875 - val_accuracy: 0.9522\n",
      "Epoch 4/10\n",
      "246/246 [==============================] - 29s 117ms/step - loss: 0.0178 - accuracy: 0.9960 - val_loss: 0.1642 - val_accuracy: 0.9560\n",
      "Epoch 5/10\n",
      "246/246 [==============================] - 29s 116ms/step - loss: 0.0082 - accuracy: 0.9976 - val_loss: 0.1721 - val_accuracy: 0.9591\n",
      "Epoch 6/10\n",
      "246/246 [==============================] - 29s 118ms/step - loss: 0.0066 - accuracy: 0.9982 - val_loss: 0.1636 - val_accuracy: 0.9588\n",
      "Epoch 7/10\n",
      "246/246 [==============================] - 28s 112ms/step - loss: 0.0141 - accuracy: 0.9967 - val_loss: 0.2744 - val_accuracy: 0.9352\n",
      "Epoch 8/10\n",
      "246/246 [==============================] - 28s 115ms/step - loss: 0.0478 - accuracy: 0.9867 - val_loss: 0.3829 - val_accuracy: 0.9186\n",
      "Epoch 9/10\n",
      "246/246 [==============================] - 28s 115ms/step - loss: 0.0320 - accuracy: 0.9902 - val_loss: 0.1928 - val_accuracy: 0.9575\n",
      "Epoch 10/10\n",
      "246/246 [==============================] - 27s 112ms/step - loss: 0.0095 - accuracy: 0.9977 - val_loss: 0.1656 - val_accuracy: 0.9611\n"
     ]
    }
   ],
   "source": [
    "\n",
    "\n",
    "embedding_layer = Embedding(vocab_size+1, 300, weights=[embedding_matrix], input_length=100,\n",
    "                                        trainable=True)\n",
    "model = Sequential()\n",
    "\n",
    "model.add(embedding_layer)\n",
    "\n",
    "model.add(Conv1D(128, 3, activation='relu'))\n",
    "model.add(BatchNormalization())\n",
    "model.add(MaxPooling1D(3))\n",
    "model.add(Conv1D(256, 3, activation='relu'))\n",
    "model.add(BatchNormalization())\n",
    "model.add(MaxPooling1D(2))\n",
    "model.add(Conv1D(512, 3, activation='relu'))\n",
    "model.add(BatchNormalization())\n",
    "model.add(MaxPooling1D(3))\n",
    "model.add(Flatten())\n",
    "model.add(Dense(256))\n",
    "model.add(BatchNormalization())\n",
    "model.add(Activation('relu'))\n",
    "model.add(Dropout(0.2))\n",
    "model.add(Dense(28, activation='softmax'))\n",
    "model.summary()\n",
    "model.compile(loss='categorical_crossentropy', optimizer='adam', metrics=['accuracy'])\n",
    "\n",
    "history = model.fit(X_train_final, y_train_final, batch_size=32, epochs=10, verbose=1,validation_data = (X_test_final,y_test_final),shuffle = True)"
   ]
  },
  {
   "cell_type": "markdown",
   "metadata": {},
   "source": [
    "Now predicting on the test set using the trained model"
   ]
  },
  {
   "cell_type": "code",
   "execution_count": 51,
   "metadata": {},
   "outputs": [
    {
     "name": "stderr",
     "output_type": "stream",
     "text": [
      "/home/akshat/anaconda3/lib/python3.7/site-packages/tensorflow/python/keras/engine/sequential.py:450: UserWarning: `model.predict_classes()` is deprecated and will be removed after 2021-01-01. Please use instead:* `np.argmax(model.predict(x), axis=-1)`,   if your model does multi-class classification   (e.g. if it uses a `softmax` last-layer activation).* `(model.predict(x) > 0.5).astype(\"int32\")`,   if your model does binary classification   (e.g. if it uses a `sigmoid` last-layer activation).\n",
      "  warnings.warn('`model.predict_classes()` is deprecated and '\n"
     ]
    }
   ],
   "source": [
    "\n",
    "y_pred = model.predict_classes(X_test_final)"
   ]
  },
  {
   "cell_type": "markdown",
   "metadata": {},
   "source": [
    "Since class imblanace is very high, we will have to used weighted F1 scores to correctly justify the prediction results."
   ]
  },
  {
   "cell_type": "code",
   "execution_count": 52,
   "metadata": {},
   "outputs": [
    {
     "name": "stdout",
     "output_type": "stream",
     "text": [
      "F1 Score :  0.9602139273999948\n"
     ]
    }
   ],
   "source": [
    "\n",
    "print(\"F1 Score : \",f1_score(y_test, y_pred , average=\"weighted\"))"
   ]
  },
  {
   "cell_type": "markdown",
   "metadata": {},
   "source": [
    "Overall an F1 score of 0.96 was obtained. From the score we can say that the model is working quite well.\n"
   ]
  },
  {
   "cell_type": "markdown",
   "metadata": {},
   "source": [
    "Printing the classification report"
   ]
  },
  {
   "cell_type": "code",
   "execution_count": 53,
   "metadata": {},
   "outputs": [
    {
     "name": "stdout",
     "output_type": "stream",
     "text": [
      "              precision    recall  f1-score   support\n",
      "\n",
      "           0       0.99      1.00      0.99      1210\n",
      "           1       0.79      0.98      0.88        43\n",
      "           2       0.99      0.99      0.99       270\n",
      "           3       0.82      0.75      0.78        12\n",
      "           4       0.84      0.85      0.85        62\n",
      "           5       0.64      0.79      0.71        34\n",
      "           6       0.92      0.91      0.91       133\n",
      "           7       0.84      0.92      0.88        50\n",
      "           8       0.96      0.98      0.97       177\n",
      "           9       0.95      0.99      0.97       212\n",
      "          10       1.00      0.88      0.93        81\n",
      "          11       0.96      0.97      0.96       138\n",
      "          12       0.96      0.79      0.86       108\n",
      "          13       0.95      0.98      0.96       210\n",
      "          14       0.99      0.99      0.99       106\n",
      "          15       0.96      0.75      0.84        67\n",
      "          16       0.99      1.00      0.99       700\n",
      "          17       0.94      0.95      0.95       121\n",
      "          18       0.33      0.17      0.22         6\n",
      "          19       0.98      0.90      0.94       132\n",
      "          20       0.93      0.81      0.87        16\n",
      "          21       0.43      0.86      0.57         7\n",
      "          22       1.00      0.57      0.73         7\n",
      "          23       0.78      0.54      0.64        13\n",
      "          24       1.00      0.78      0.88         9\n",
      "          25       0.60      1.00      0.75         3\n",
      "          26       1.00      1.00      1.00         2\n",
      "          27       0.00      0.00      0.00         4\n",
      "\n",
      "    accuracy                           0.96      3933\n",
      "   macro avg       0.84      0.82      0.82      3933\n",
      "weighted avg       0.96      0.96      0.96      3933\n",
      "\n"
     ]
    },
    {
     "name": "stderr",
     "output_type": "stream",
     "text": [
      "/home/akshat/anaconda3/lib/python3.7/site-packages/sklearn/metrics/_classification.py:1245: UndefinedMetricWarning: Precision and F-score are ill-defined and being set to 0.0 in labels with no predicted samples. Use `zero_division` parameter to control this behavior.\n",
      "  _warn_prf(average, modifier, msg_start, len(result))\n",
      "/home/akshat/anaconda3/lib/python3.7/site-packages/sklearn/metrics/_classification.py:1245: UndefinedMetricWarning: Precision and F-score are ill-defined and being set to 0.0 in labels with no predicted samples. Use `zero_division` parameter to control this behavior.\n",
      "  _warn_prf(average, modifier, msg_start, len(result))\n",
      "/home/akshat/anaconda3/lib/python3.7/site-packages/sklearn/metrics/_classification.py:1245: UndefinedMetricWarning: Precision and F-score are ill-defined and being set to 0.0 in labels with no predicted samples. Use `zero_division` parameter to control this behavior.\n",
      "  _warn_prf(average, modifier, msg_start, len(result))\n"
     ]
    }
   ],
   "source": [
    "print(classification_report(y_test, y_pred))"
   ]
  },
  {
   "cell_type": "markdown",
   "metadata": {},
   "source": [
    "Plotting train and test accuracies and losses"
   ]
  },
  {
   "cell_type": "code",
   "execution_count": 54,
   "metadata": {},
   "outputs": [
    {
     "data": {
      "image/png": "[encoded data removed]",
      "text/plain": [
       "<Figure size 432x288 with 1 Axes>"
      ]
     },
     "metadata": {
      "needs_background": "light"
     },
     "output_type": "display_data"
    }
   ],
   "source": [
    "\n",
    "#history = model.fit(train_x, train_y,validation_split = 0.1, epochs=50, batch_size=4)\n",
    "plt.plot(history.history['accuracy'])\n",
    "plt.plot(history.history['val_accuracy'])\n",
    "plt.title('model accuracy')\n",
    "plt.ylabel('accuracy')\n",
    "plt.xlabel('epoch')\n",
    "plt.legend(['train', 'val'], loc='upper left')\n",
    "plt.show()"
   ]
  },
  {
   "cell_type": "code",
   "execution_count": 55,
   "metadata": {},
   "outputs": [
    {
     "data": {
      "text/plain": [
       "['loss', 'accuracy']"
      ]
     },
     "execution_count": 55,
     "metadata": {},
     "output_type": "execute_result"
    }
   ],
   "source": [
    "model.metrics_names"
   ]
  },
  {
   "cell_type": "code",
   "execution_count": 56,
   "metadata": {},
   "outputs": [
    {
     "data": {
      "image/png": "[encoded data removed]",
      "text/plain": [
       "<Figure size 432x288 with 1 Axes>"
      ]
     },
     "metadata": {
      "needs_background": "light"
     },
     "output_type": "display_data"
    }
   ],
   "source": [
    "plt.plot(history.history['loss'])\n",
    "plt.plot(history.history['val_loss'])\n",
    "plt.title('model loss')\n",
    "plt.ylabel('loss')\n",
    "plt.xlabel('epoch')\n",
    "plt.legend(['train', 'val'], loc='upper left')\n",
    "plt.show()"
   ]
  },
  {
   "cell_type": "code",
   "execution_count": null,
   "metadata": {},
   "outputs": [],
   "source": []
  }
 ],
 "metadata": {
  "kernelspec": {
   "display_name": "Python 3",
   "language": "python",
   "name": "python3"
  },
  "language_info": {
   "codemirror_mode": {
    "name": "ipython",
    "version": 3
   },
   "file_extension": ".py",
   "mimetype": "text/x-python",
   "name": "python",
   "nbconvert_exporter": "python",
   "pygments_lexer": "ipython3",
   "version": "3.7.6"
  }
 },
 "nbformat": 4,
 "nbformat_minor": 4
}
